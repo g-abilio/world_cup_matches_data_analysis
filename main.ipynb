{
 "cells": [
  {
   "cell_type": "markdown",
   "id": "1861739f",
   "metadata": {},
   "source": [
    "# World Cup Matches : An analysis"
   ]
  },
  {
   "cell_type": "markdown",
   "id": "49b28c0d",
   "metadata": {},
   "source": [
    "This project is a study about World Cup matches ranging from 1930 until 2018, with the aim to  gather as much information as possible about this topic, such as the frequency of results, the most victorius country, the country with the most losses, the biggest win, and so on. "
   ]
  },
  {
   "cell_type": "markdown",
   "id": "1e04e653",
   "metadata": {},
   "source": [
    "First of all, we are going to load our dataset, that is a result of an integration between a csv file and data from web scraping:"
   ]
  },
  {
   "cell_type": "code",
   "execution_count": 1,
   "id": "dc732edb",
   "metadata": {
    "scrolled": true
   },
   "outputs": [],
   "source": [
    "import data_loading"
   ]
  },
  {
   "cell_type": "code",
   "execution_count": 2,
   "id": "0eb10e7e",
   "metadata": {
    "scrolled": false
   },
   "outputs": [
    {
     "data": {
      "text/html": [
       "<div>\n",
       "<style scoped>\n",
       "    .dataframe tbody tr th:only-of-type {\n",
       "        vertical-align: middle;\n",
       "    }\n",
       "\n",
       "    .dataframe tbody tr th {\n",
       "        vertical-align: top;\n",
       "    }\n",
       "\n",
       "    .dataframe thead th {\n",
       "        text-align: right;\n",
       "    }\n",
       "</style>\n",
       "<table border=\"1\" class=\"dataframe\">\n",
       "  <thead>\n",
       "    <tr style=\"text-align: right;\">\n",
       "      <th></th>\n",
       "      <th>year</th>\n",
       "      <th>home_team_names</th>\n",
       "      <th>home_team_goals</th>\n",
       "      <th>away_team_goals</th>\n",
       "      <th>away_team_names</th>\n",
       "      <th>victory</th>\n",
       "      <th>loss</th>\n",
       "    </tr>\n",
       "  </thead>\n",
       "  <tbody>\n",
       "    <tr>\n",
       "      <th>0</th>\n",
       "      <td>1930</td>\n",
       "      <td>France</td>\n",
       "      <td>4.0</td>\n",
       "      <td>1.0</td>\n",
       "      <td>Mexico</td>\n",
       "      <td>home</td>\n",
       "      <td>away</td>\n",
       "    </tr>\n",
       "    <tr>\n",
       "      <th>1</th>\n",
       "      <td>1930</td>\n",
       "      <td>USA</td>\n",
       "      <td>3.0</td>\n",
       "      <td>0.0</td>\n",
       "      <td>Belgium</td>\n",
       "      <td>home</td>\n",
       "      <td>away</td>\n",
       "    </tr>\n",
       "    <tr>\n",
       "      <th>2</th>\n",
       "      <td>1930</td>\n",
       "      <td>Yugoslavia</td>\n",
       "      <td>2.0</td>\n",
       "      <td>1.0</td>\n",
       "      <td>Brazil</td>\n",
       "      <td>home</td>\n",
       "      <td>away</td>\n",
       "    </tr>\n",
       "    <tr>\n",
       "      <th>3</th>\n",
       "      <td>1930</td>\n",
       "      <td>Romania</td>\n",
       "      <td>3.0</td>\n",
       "      <td>1.0</td>\n",
       "      <td>Peru</td>\n",
       "      <td>home</td>\n",
       "      <td>away</td>\n",
       "    </tr>\n",
       "    <tr>\n",
       "      <th>4</th>\n",
       "      <td>1930</td>\n",
       "      <td>Argentina</td>\n",
       "      <td>1.0</td>\n",
       "      <td>0.0</td>\n",
       "      <td>France</td>\n",
       "      <td>home</td>\n",
       "      <td>away</td>\n",
       "    </tr>\n",
       "    <tr>\n",
       "      <th>...</th>\n",
       "      <td>...</td>\n",
       "      <td>...</td>\n",
       "      <td>...</td>\n",
       "      <td>...</td>\n",
       "      <td>...</td>\n",
       "      <td>...</td>\n",
       "      <td>...</td>\n",
       "    </tr>\n",
       "    <tr>\n",
       "      <th>911</th>\n",
       "      <td>2018</td>\n",
       "      <td>Uruguay</td>\n",
       "      <td>0.0</td>\n",
       "      <td>2.0</td>\n",
       "      <td>France</td>\n",
       "      <td>away</td>\n",
       "      <td>home</td>\n",
       "    </tr>\n",
       "    <tr>\n",
       "      <th>912</th>\n",
       "      <td>2018</td>\n",
       "      <td>Croatia</td>\n",
       "      <td>2.0</td>\n",
       "      <td>1.0</td>\n",
       "      <td>England</td>\n",
       "      <td>home</td>\n",
       "      <td>away</td>\n",
       "    </tr>\n",
       "    <tr>\n",
       "      <th>913</th>\n",
       "      <td>2018</td>\n",
       "      <td>France</td>\n",
       "      <td>1.0</td>\n",
       "      <td>0.0</td>\n",
       "      <td>Belgium</td>\n",
       "      <td>home</td>\n",
       "      <td>away</td>\n",
       "    </tr>\n",
       "    <tr>\n",
       "      <th>914</th>\n",
       "      <td>2018</td>\n",
       "      <td>Belgium</td>\n",
       "      <td>2.0</td>\n",
       "      <td>0.0</td>\n",
       "      <td>England</td>\n",
       "      <td>home</td>\n",
       "      <td>away</td>\n",
       "    </tr>\n",
       "    <tr>\n",
       "      <th>915</th>\n",
       "      <td>2018</td>\n",
       "      <td>France</td>\n",
       "      <td>4.0</td>\n",
       "      <td>2.0</td>\n",
       "      <td>Croatia</td>\n",
       "      <td>home</td>\n",
       "      <td>away</td>\n",
       "    </tr>\n",
       "  </tbody>\n",
       "</table>\n",
       "<p>916 rows × 7 columns</p>\n",
       "</div>"
      ],
      "text/plain": [
       "     year home_team_names  home_team_goals  away_team_goals away_team_names  \\\n",
       "0    1930          France              4.0              1.0          Mexico   \n",
       "1    1930             USA              3.0              0.0         Belgium   \n",
       "2    1930      Yugoslavia              2.0              1.0          Brazil   \n",
       "3    1930         Romania              3.0              1.0            Peru   \n",
       "4    1930       Argentina              1.0              0.0          France   \n",
       "..    ...             ...              ...              ...             ...   \n",
       "911  2018         Uruguay              0.0              2.0          France   \n",
       "912  2018         Croatia              2.0              1.0         England   \n",
       "913  2018          France              1.0              0.0         Belgium   \n",
       "914  2018         Belgium              2.0              0.0         England   \n",
       "915  2018          France              4.0              2.0         Croatia   \n",
       "\n",
       "    victory  loss  \n",
       "0      home  away  \n",
       "1      home  away  \n",
       "2      home  away  \n",
       "3      home  away  \n",
       "4      home  away  \n",
       "..      ...   ...  \n",
       "911    away  home  \n",
       "912    home  away  \n",
       "913    home  away  \n",
       "914    home  away  \n",
       "915    home  away  \n",
       "\n",
       "[916 rows x 7 columns]"
      ]
     },
     "execution_count": 2,
     "metadata": {},
     "output_type": "execute_result"
    }
   ],
   "source": [
    "df = data_loading.create_df_new()\n",
    "df"
   ]
  },
  {
   "cell_type": "markdown",
   "id": "4df0239e",
   "metadata": {},
   "source": [
    "### Data Understanding"
   ]
  },
  {
   "cell_type": "markdown",
   "id": "47055dad",
   "metadata": {},
   "source": [
    "Now, we can understand our data in more depth using statistics:"
   ]
  },
  {
   "cell_type": "code",
   "execution_count": 20,
   "id": "4dea351b",
   "metadata": {},
   "outputs": [],
   "source": [
    "from data_vis_und import central_tedency, dispersion, game_with_most_goals\n",
    "from data_vis_und import NonNumerical_based, Numerical_based"
   ]
  },
  {
   "cell_type": "markdown",
   "id": "c673e599",
   "metadata": {},
   "source": [
    "In this module there is two classes: NonNumerical_based, to deal with non numerical columns in df, and Numerical_based, to deal with numerical columns in df."
   ]
  },
  {
   "cell_type": "code",
   "execution_count": 4,
   "id": "0fd1859e",
   "metadata": {},
   "outputs": [],
   "source": [
    "non_numerical = NonNumerical_based(df)\n",
    "numerical = Numerical_based(df)"
   ]
  },
  {
   "cell_type": "markdown",
   "id": "272c76c2",
   "metadata": {},
   "source": [
    "Let's deal first with the non numerical columns:"
   ]
  },
  {
   "cell_type": "code",
   "execution_count": 5,
   "id": "0510235b",
   "metadata": {},
   "outputs": [
    {
     "data": {
      "text/plain": [
       "{'Algeria',\n",
       " 'Angola',\n",
       " 'Argentina',\n",
       " 'Australia',\n",
       " 'Austria',\n",
       " 'Belgium',\n",
       " 'Bolivia',\n",
       " 'Bosnia and Herzegovina',\n",
       " 'Brazil',\n",
       " 'Bulgaria',\n",
       " 'Cameroon',\n",
       " 'Canada',\n",
       " 'Chile',\n",
       " 'China PR',\n",
       " 'Colombia',\n",
       " 'Costa Rica',\n",
       " 'Croatia',\n",
       " 'Cuba',\n",
       " 'Czech Republic',\n",
       " 'Czechoslovakia',\n",
       " \"C�te d'Ivoire\",\n",
       " 'Denmark',\n",
       " 'Dutch East Indies',\n",
       " 'Ecuador',\n",
       " 'Egypt',\n",
       " 'El Salvador',\n",
       " 'England',\n",
       " 'France',\n",
       " 'German DR',\n",
       " 'Germany',\n",
       " 'Germany FR',\n",
       " 'Ghana',\n",
       " 'Greece',\n",
       " 'Haiti',\n",
       " 'Honduras',\n",
       " 'Hungary',\n",
       " 'IR Iran',\n",
       " 'Iceland',\n",
       " 'Iran',\n",
       " 'Iraq',\n",
       " 'Israel',\n",
       " 'Italy',\n",
       " 'Jamaica',\n",
       " 'Japan',\n",
       " 'Korea DPR',\n",
       " 'Korea Republic',\n",
       " 'Kuwait',\n",
       " 'Mexico',\n",
       " 'Morocco',\n",
       " 'Netherlands',\n",
       " 'New Zealand',\n",
       " 'Nigeria',\n",
       " 'Northern Ireland',\n",
       " 'Norway',\n",
       " 'Panama',\n",
       " 'Paraguay',\n",
       " 'Peru',\n",
       " 'Poland',\n",
       " 'Portugal',\n",
       " 'Republic of Ireland',\n",
       " 'Romania',\n",
       " 'Russia',\n",
       " 'Saudi Arabia',\n",
       " 'Scotland',\n",
       " 'Senegal',\n",
       " 'Serbia',\n",
       " 'Serbia and Montenegro',\n",
       " 'Slovakia',\n",
       " 'Slovenia',\n",
       " 'South Africa',\n",
       " 'South Korea',\n",
       " 'Soviet Union',\n",
       " 'Spain',\n",
       " 'Sweden',\n",
       " 'Switzerland',\n",
       " 'Togo',\n",
       " 'Trinidad and Tobago',\n",
       " 'Tunisia',\n",
       " 'Turkey',\n",
       " 'USA',\n",
       " 'Ukraine',\n",
       " 'United Arab Emirates',\n",
       " 'Uruguay',\n",
       " 'Wales',\n",
       " 'Yugoslavia',\n",
       " 'Zaire'}"
      ]
     },
     "execution_count": 5,
     "metadata": {},
     "output_type": "execute_result"
    }
   ],
   "source": [
    "# All the teams in the world cup history:\n",
    "non_numerical.all_teams()"
   ]
  },
  {
   "cell_type": "code",
   "execution_count": 6,
   "id": "bd8013be",
   "metadata": {},
   "outputs": [
    {
     "data": {
      "text/plain": [
       "Algeria                 14.0\n",
       "Angola                   3.0\n",
       "Argentina               85.0\n",
       "Australia               16.0\n",
       "Austria                 29.0\n",
       "                        ... \n",
       "United Arab Emirates     3.0\n",
       "Uruguay                 57.0\n",
       "Wales                    5.0\n",
       "Yugoslavia              37.0\n",
       "Zaire                    3.0\n",
       "Name: count, Length: 86, dtype: float64"
      ]
     },
     "execution_count": 6,
     "metadata": {},
     "output_type": "execute_result"
    }
   ],
   "source": [
    "# Games played by each team:\n",
    "non_numerical.games_played()"
   ]
  },
  {
   "cell_type": "markdown",
   "id": "7891d433",
   "metadata": {},
   "source": [
    "So, the team with most games, as expected, is:"
   ]
  },
  {
   "cell_type": "code",
   "execution_count": 7,
   "id": "82556a7f",
   "metadata": {},
   "outputs": [
    {
     "data": {
      "text/plain": [
       "Brazil    113.0\n",
       "Name: count, dtype: float64"
      ]
     },
     "execution_count": 7,
     "metadata": {},
     "output_type": "execute_result"
    }
   ],
   "source": [
    "non_numerical.games_played()[non_numerical.games_played() == non_numerical.games_played().max()]"
   ]
  },
  {
   "cell_type": "code",
   "execution_count": 8,
   "id": "4a7ac21e",
   "metadata": {},
   "outputs": [
    {
     "data": {
      "text/plain": [
       "Algeria        3.0\n",
       "Argentina     45.0\n",
       "Australia      NaN\n",
       "Austria       12.0\n",
       "Belgium       21.0\n",
       "              ... \n",
       "USA            8.0\n",
       "Ukraine        2.0\n",
       "Uruguay       24.0\n",
       "Wales          NaN\n",
       "Yugoslavia    16.0\n",
       "Name: count, Length: 65, dtype: float64"
      ]
     },
     "execution_count": 8,
     "metadata": {},
     "output_type": "execute_result"
    }
   ],
   "source": [
    "# Victories per team:\n",
    "non_numerical.victories_per_team()"
   ]
  },
  {
   "cell_type": "markdown",
   "id": "b3ba9bad",
   "metadata": {},
   "source": [
    "The team with most victories is, again, as expected:"
   ]
  },
  {
   "cell_type": "code",
   "execution_count": 9,
   "id": "aa1d004b",
   "metadata": {},
   "outputs": [
    {
     "data": {
      "text/plain": [
       "Brazil    74.0\n",
       "Name: count, dtype: float64"
      ]
     },
     "execution_count": 9,
     "metadata": {},
     "output_type": "execute_result"
    }
   ],
   "source": [
    "non_numerical.victories_per_team()[non_numerical.victories_per_team() == non_numerical.victories_per_team().max()]"
   ]
  },
  {
   "cell_type": "code",
   "execution_count": 10,
   "id": "186b9387",
   "metadata": {},
   "outputs": [
    {
     "data": {
      "text/plain": [
       "Algeria                  8.0\n",
       "Angola                   NaN\n",
       "Argentina               24.0\n",
       "Australia               10.0\n",
       "Austria                 13.0\n",
       "                        ... \n",
       "United Arab Emirates     3.0\n",
       "Uruguay                 21.0\n",
       "Wales                    NaN\n",
       "Yugoslavia              13.0\n",
       "Zaire                    3.0\n",
       "Name: count, Length: 86, dtype: float64"
      ]
     },
     "execution_count": 10,
     "metadata": {},
     "output_type": "execute_result"
    }
   ],
   "source": [
    "# Losses per team:\n",
    "non_numerical.losses_per_team()"
   ]
  },
  {
   "cell_type": "markdown",
   "id": "2ea2a2e2",
   "metadata": {},
   "source": [
    "Team with most losses is:"
   ]
  },
  {
   "cell_type": "code",
   "execution_count": 11,
   "id": "59bd0021",
   "metadata": {},
   "outputs": [
    {
     "data": {
      "text/plain": [
       "Mexico    28.0\n",
       "Name: count, dtype: float64"
      ]
     },
     "execution_count": 11,
     "metadata": {},
     "output_type": "execute_result"
    }
   ],
   "source": [
    "non_numerical.losses_per_team()[non_numerical.losses_per_team() == non_numerical.losses_per_team().max()]"
   ]
  },
  {
   "cell_type": "code",
   "execution_count": 12,
   "id": "64988093",
   "metadata": {},
   "outputs": [
    {
     "data": {
      "text/plain": [
       "[('Costa Rica', 7.0),\n",
       " ('Hungary', 73.0),\n",
       " ('Soviet Union', 43.0),\n",
       " ('Korea DPR', 2.0),\n",
       " ('Croatia', 8.0),\n",
       " ('Morocco', 3.0),\n",
       " ('Peru', 13.0),\n",
       " ('Australia', 7.0),\n",
       " ('Netherlands', 51.0),\n",
       " ('Argentina', 112.0),\n",
       " ('Italy', 99.0),\n",
       " ('Spain', 53.0),\n",
       " ('Turkey', 10.0),\n",
       " ('Norway', 1.0),\n",
       " ('South Africa', 7.0),\n",
       " ('Germany FR', 99.0),\n",
       " ('Tunisia', 7.0),\n",
       " ('Scotland', 11.0),\n",
       " ('IR Iran', 0.0),\n",
       " ('Senegal', 3.0),\n",
       " ('Algeria', 5.0),\n",
       " ('Trinidad and Tobago', 0.0),\n",
       " ('Serbia and Montenegro', 0.0),\n",
       " ('Israel', 0.0),\n",
       " ('Angola', 0.0),\n",
       " ('Yugoslavia', 42.0),\n",
       " ('Egypt', 0.0),\n",
       " ('Ecuador', 4.0),\n",
       " ('Kuwait', 0.0),\n",
       " ('Romania', 15.0),\n",
       " ('New Zealand', 1.0),\n",
       " ('Bulgaria', 11.0),\n",
       " ('USA', 19.0),\n",
       " ('Slovenia', 3.0),\n",
       " ('England', 60.0),\n",
       " ('Colombia', 13.0),\n",
       " ('Sweden', 55.0),\n",
       " ('Northern Ireland', 5.0),\n",
       " ('Cameroon', 11.0),\n",
       " ('Iraq', 1.0),\n",
       " ('Brazil', 186.0),\n",
       " ('Denmark', 14.0),\n",
       " ('Russia', 19.0),\n",
       " ('Dutch East Indies', 0.0),\n",
       " ('Honduras', 2.0),\n",
       " ('Bosnia and Herzegovina', 3.0),\n",
       " ('Ukraine', 1.0),\n",
       " ('Republic of Ireland', 2.0),\n",
       " ('France', 80.0),\n",
       " ('Nigeria', 15.0),\n",
       " ('South Korea', 3.0),\n",
       " ('Haiti', 0.0),\n",
       " ('Korea Republic', 18.0),\n",
       " ('Wales', 2.0),\n",
       " ('Panama', 1.0),\n",
       " ('Mexico', 22.0),\n",
       " ('Czechoslovakia', 27.0),\n",
       " ('Iran', 2.0),\n",
       " ('Austria', 31.0),\n",
       " ('Chile', 25.0),\n",
       " ('Germany', 71.0),\n",
       " ('United Arab Emirates', 0.0),\n",
       " ('Togo', 0.0),\n",
       " ('Bolivia', 1.0),\n",
       " (\"C�te d'Ivoire\", 5.0),\n",
       " ('Czech Republic', 0.0),\n",
       " ('Switzerland', 24.0),\n",
       " ('Iceland', 1.0),\n",
       " ('Cuba', 5.0),\n",
       " ('Paraguay', 14.0),\n",
       " ('Uruguay', 68.0),\n",
       " ('Japan', 9.0),\n",
       " ('Portugal', 40.0),\n",
       " ('Belgium', 40.0),\n",
       " ('Poland', 28.0),\n",
       " ('Serbia', 1.0),\n",
       " ('Ghana', 4.0),\n",
       " ('Zaire', 0.0),\n",
       " ('El Salvador', 0.0),\n",
       " ('China PR', 0.0),\n",
       " ('Canada', 0.0),\n",
       " ('Greece', 4.0),\n",
       " ('German DR', 3.0),\n",
       " ('Jamaica', 1.0),\n",
       " ('Saudi Arabia', 5.0),\n",
       " ('Slovakia', 3.0)]"
      ]
     },
     "execution_count": 12,
     "metadata": {},
     "output_type": "execute_result"
    }
   ],
   "source": [
    "# Goals per team:\n",
    "non_numerical.goals_per_team()"
   ]
  },
  {
   "cell_type": "markdown",
   "id": "49dc3101",
   "metadata": {},
   "source": [
    "The team with most goals is:"
   ]
  },
  {
   "cell_type": "code",
   "execution_count": 13,
   "id": "eaf74813",
   "metadata": {},
   "outputs": [
    {
     "data": {
      "text/plain": [
       "186.0"
      ]
     },
     "execution_count": 13,
     "metadata": {},
     "output_type": "execute_result"
    }
   ],
   "source": [
    "# Finding how many goals the team with the biggest number of goals\n",
    "# has made\n",
    "max_goals = 0\n",
    "\n",
    "for i,j in non_numerical.goals_per_team():\n",
    "    if j > max_goals:\n",
    "        max_goals = j\n",
    "        \n",
    "max_goals"
   ]
  },
  {
   "cell_type": "code",
   "execution_count": 14,
   "id": "439d26af",
   "metadata": {},
   "outputs": [
    {
     "data": {
      "text/plain": [
       "'Brazil'"
      ]
     },
     "execution_count": 14,
     "metadata": {},
     "output_type": "execute_result"
    }
   ],
   "source": [
    "def team_max_goals(max_goals):\n",
    "    for i,j in non_numerical.goals_per_team():\n",
    "        if j == max_goals:\n",
    "            return i\n",
    "        \n",
    "team_max_goals(max_goals)"
   ]
  },
  {
   "cell_type": "markdown",
   "id": "09f06f19",
   "metadata": {},
   "source": [
    "Again, as expected..."
   ]
  },
  {
   "cell_type": "markdown",
   "id": "9c9dc743",
   "metadata": {},
   "source": [
    "Now, let's explore the numerical columns:"
   ]
  },
  {
   "cell_type": "code",
   "execution_count": 15,
   "id": "b6f1dcf1",
   "metadata": {},
   "outputs": [],
   "source": [
    "# Defining the numerical columns:\n",
    "numerical_columns = [\"home_team_goals\", \"away_team_goals\"]"
   ]
  },
  {
   "cell_type": "code",
   "execution_count": 16,
   "id": "2c9fc2a3",
   "metadata": {},
   "outputs": [
    {
     "name": "stdout",
     "output_type": "stream",
     "text": [
      "For column home_team_goals, we have:\n",
      "Min = 0.0, Max = 10.0, Midpoint = 5.0, Median = 1.0, Mode = 1.0\n",
      "For column away_team_goals, we have:\n",
      "Min = 0.0, Max = 7.0, Midpoint = 3.5, Median = 1.0, Mode = 1.0\n",
      "None\n",
      "For column home_team_goals, we have:\n",
      "Variance = 2.5477605173360103, Std = 1.5961705790221827, First Quartile = 1.0, Second Quartile = 1.0, Third Quartile = 3.0, Range = 10.0\n",
      "For column away_team_goals, we have:\n",
      "Variance = 1.1604493282745068, Std = 1.077241536645569, First Quartile = 0.0, Second Quartile = 1.0, Third Quartile = 2.0, Range = 7.0\n",
      "None\n"
     ]
    }
   ],
   "source": [
    "# Various statistics metrics to evaluate goals from WC\n",
    "print(numerical.central_tedency_all(numerical_columns))\n",
    "print(numerical.dispersion_all(numerical_columns))"
   ]
  },
  {
   "cell_type": "markdown",
   "id": "726700c1",
   "metadata": {},
   "source": [
    "These statistics methods demonstrate metrics for the \"home\" and \"away\" teams. This nomenclature is, in majority, not that great, as, looking in the geografic standpoint, the majority of the teams are in the \"away\" group. So, to deal with this problem, there is the goals_per_game_stat method:"
   ]
  },
  {
   "cell_type": "code",
   "execution_count": 17,
   "id": "98d83299",
   "metadata": {},
   "outputs": [
    {
     "name": "stdout",
     "output_type": "stream",
     "text": [
      "Total number of goals in all matches at WC history: 2583.0\n",
      "Mean of goals per game: 2.819868995633188\n",
      "Standard Deviation of goals per game: 1.9292277298164873\n",
      "Variance of goals per game: 3.7219196334928775\n",
      "Maximum number of goals per game: 12.0\n"
     ]
    }
   ],
   "source": [
    "numerical.goals_per_game_stat()"
   ]
  },
  {
   "cell_type": "markdown",
   "id": "349d69ed",
   "metadata": {},
   "source": [
    "To see which match was the one with 12 goals, we use game_with_most_goals function:"
   ]
  },
  {
   "cell_type": "code",
   "execution_count": 21,
   "id": "0ce5889b",
   "metadata": {},
   "outputs": [
    {
     "name": "stdout",
     "output_type": "stream",
     "text": [
      "Austria x Switzerland\n"
     ]
    }
   ],
   "source": [
    "game_with_most_goals(df)"
   ]
  }
 ],
 "metadata": {
  "kernelspec": {
   "display_name": "Python 3 (ipykernel)",
   "language": "python",
   "name": "python3"
  },
  "language_info": {
   "codemirror_mode": {
    "name": "ipython",
    "version": 3
   },
   "file_extension": ".py",
   "mimetype": "text/x-python",
   "name": "python",
   "nbconvert_exporter": "python",
   "pygments_lexer": "ipython3",
   "version": "3.11.5"
  }
 },
 "nbformat": 4,
 "nbformat_minor": 5
}
