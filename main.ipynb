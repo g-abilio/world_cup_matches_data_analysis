{
 "cells": [
  {
   "cell_type": "markdown",
   "id": "1861739f",
   "metadata": {},
   "source": [
    "# World Cup Matches : An analysis"
   ]
  },
  {
   "cell_type": "markdown",
   "id": "49b28c0d",
   "metadata": {},
   "source": [
    "This project is a study about World Cup matches, with the aim to  gather as much information as possible about this topic, such as the frequency of results, the most victorius country, the country with the most losses, the biggest win, and so on. "
   ]
  },
  {
   "cell_type": "markdown",
   "id": "1e04e653",
   "metadata": {},
   "source": [
    "First of all, we are going to load our dataset, that is a result of an integration between a csv file and data from web scraping:"
   ]
  },
  {
   "cell_type": "code",
   "execution_count": 3,
   "id": "dc732edb",
   "metadata": {
    "scrolled": true
   },
   "outputs": [],
   "source": [
    "import data_loading"
   ]
  },
  {
   "cell_type": "code",
   "execution_count": 4,
   "id": "0eb10e7e",
   "metadata": {},
   "outputs": [
    {
     "data": {
      "text/html": [
       "<div>\n",
       "<style scoped>\n",
       "    .dataframe tbody tr th:only-of-type {\n",
       "        vertical-align: middle;\n",
       "    }\n",
       "\n",
       "    .dataframe tbody tr th {\n",
       "        vertical-align: top;\n",
       "    }\n",
       "\n",
       "    .dataframe thead th {\n",
       "        text-align: right;\n",
       "    }\n",
       "</style>\n",
       "<table border=\"1\" class=\"dataframe\">\n",
       "  <thead>\n",
       "    <tr style=\"text-align: right;\">\n",
       "      <th></th>\n",
       "      <th>year</th>\n",
       "      <th>home_team_names</th>\n",
       "      <th>home_team_goals</th>\n",
       "      <th>away_team_goals</th>\n",
       "      <th>away_team_names</th>\n",
       "    </tr>\n",
       "  </thead>\n",
       "  <tbody>\n",
       "    <tr>\n",
       "      <th>0</th>\n",
       "      <td>1930</td>\n",
       "      <td>France</td>\n",
       "      <td>4.0</td>\n",
       "      <td>1.0</td>\n",
       "      <td>Mexico</td>\n",
       "    </tr>\n",
       "    <tr>\n",
       "      <th>1</th>\n",
       "      <td>1930</td>\n",
       "      <td>USA</td>\n",
       "      <td>3.0</td>\n",
       "      <td>0.0</td>\n",
       "      <td>Belgium</td>\n",
       "    </tr>\n",
       "    <tr>\n",
       "      <th>2</th>\n",
       "      <td>1930</td>\n",
       "      <td>Yugoslavia</td>\n",
       "      <td>2.0</td>\n",
       "      <td>1.0</td>\n",
       "      <td>Brazil</td>\n",
       "    </tr>\n",
       "    <tr>\n",
       "      <th>3</th>\n",
       "      <td>1930</td>\n",
       "      <td>Romania</td>\n",
       "      <td>3.0</td>\n",
       "      <td>1.0</td>\n",
       "      <td>Peru</td>\n",
       "    </tr>\n",
       "    <tr>\n",
       "      <th>4</th>\n",
       "      <td>1930</td>\n",
       "      <td>Argentina</td>\n",
       "      <td>1.0</td>\n",
       "      <td>0.0</td>\n",
       "      <td>France</td>\n",
       "    </tr>\n",
       "    <tr>\n",
       "      <th>...</th>\n",
       "      <td>...</td>\n",
       "      <td>...</td>\n",
       "      <td>...</td>\n",
       "      <td>...</td>\n",
       "      <td>...</td>\n",
       "    </tr>\n",
       "    <tr>\n",
       "      <th>911</th>\n",
       "      <td>2018</td>\n",
       "      <td>Uruguay</td>\n",
       "      <td>0.0</td>\n",
       "      <td>2.0</td>\n",
       "      <td>France</td>\n",
       "    </tr>\n",
       "    <tr>\n",
       "      <th>912</th>\n",
       "      <td>2018</td>\n",
       "      <td>Croatia</td>\n",
       "      <td>2.0</td>\n",
       "      <td>1.0</td>\n",
       "      <td>England</td>\n",
       "    </tr>\n",
       "    <tr>\n",
       "      <th>913</th>\n",
       "      <td>2018</td>\n",
       "      <td>France</td>\n",
       "      <td>1.0</td>\n",
       "      <td>0.0</td>\n",
       "      <td>Belgium</td>\n",
       "    </tr>\n",
       "    <tr>\n",
       "      <th>914</th>\n",
       "      <td>2018</td>\n",
       "      <td>Belgium</td>\n",
       "      <td>2.0</td>\n",
       "      <td>0.0</td>\n",
       "      <td>England</td>\n",
       "    </tr>\n",
       "    <tr>\n",
       "      <th>915</th>\n",
       "      <td>2018</td>\n",
       "      <td>France</td>\n",
       "      <td>4.0</td>\n",
       "      <td>2.0</td>\n",
       "      <td>Croatia</td>\n",
       "    </tr>\n",
       "  </tbody>\n",
       "</table>\n",
       "<p>916 rows × 5 columns</p>\n",
       "</div>"
      ],
      "text/plain": [
       "     year home_team_names  home_team_goals  away_team_goals away_team_names\n",
       "0    1930          France              4.0              1.0          Mexico\n",
       "1    1930             USA              3.0              0.0         Belgium\n",
       "2    1930      Yugoslavia              2.0              1.0          Brazil\n",
       "3    1930         Romania              3.0              1.0            Peru\n",
       "4    1930       Argentina              1.0              0.0          France\n",
       "..    ...             ...              ...              ...             ...\n",
       "911  2018         Uruguay              0.0              2.0          France\n",
       "912  2018         Croatia              2.0              1.0         England\n",
       "913  2018          France              1.0              0.0         Belgium\n",
       "914  2018         Belgium              2.0              0.0         England\n",
       "915  2018          France              4.0              2.0         Croatia\n",
       "\n",
       "[916 rows x 5 columns]"
      ]
     },
     "execution_count": 4,
     "metadata": {},
     "output_type": "execute_result"
    }
   ],
   "source": [
    "df = data_loading.create_df_new()\n",
    "df"
   ]
  }
 ],
 "metadata": {
  "kernelspec": {
   "display_name": "Python 3 (ipykernel)",
   "language": "python",
   "name": "python3"
  },
  "language_info": {
   "codemirror_mode": {
    "name": "ipython",
    "version": 3
   },
   "file_extension": ".py",
   "mimetype": "text/x-python",
   "name": "python",
   "nbconvert_exporter": "python",
   "pygments_lexer": "ipython3",
   "version": "3.11.5"
  }
 },
 "nbformat": 4,
 "nbformat_minor": 5
}
